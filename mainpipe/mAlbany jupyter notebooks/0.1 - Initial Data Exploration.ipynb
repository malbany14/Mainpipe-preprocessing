{
 "cells": [
  {
   "cell_type": "code",
   "execution_count": null,
   "id": "1be1cb59",
   "metadata": {},
   "outputs": [],
   "source": [
    "import json\n",
    "import pandas as pd\n",
    "import matplotlib as mp\n",
    "# for language detection\n",
    "from langdetect import detect, DetectorFactory\n",
    "from langdetect.lang_detect_exception import LangDetectException\n",
    "from pathlib import Path\n",
    "from urllib.parse import urlparse"
   ]
  },
  {
   "cell_type": "code",
   "execution_count": 2,
   "id": "39804e6f",
   "metadata": {},
   "outputs": [],
   "source": [
    "# store useful stats from exploration\n",
    "exploration_statistics = {\n",
    "    \"total records\" : 0,\n",
    "    \"null text records\" : 0\n",
    "}"
   ]
  },
  {
   "cell_type": "code",
   "execution_count": 3,
   "id": "b21e3495",
   "metadata": {},
   "outputs": [],
   "source": [
    "# writing a function to generate markdown report on data\n",
    "def generate_md_pipeline_report(stats_dict:dict, output_path: str):\n",
    "    \"\"\"\n",
    "    Generate a markdown report for view of key metrics\n",
    "    \"\"\"\n",
    "    lines = []\n",
    "    lines.append(\"# Data cleaning summary\")\n",
    "    lines.append(f\"Total pipeline records is {stats_dict['total records']}\")\n",
    "\n",
    "    lines.append(\"# Languages summary\")\n",
    "    for lan, val in zip(stats_dict['language value counts'].index, stats_dict['language value counts'].values):\n",
    "        lines.append(f\" {lan}: {val}\")\n",
    "\n",
    "\n",
    "    md_text = \"\\n\".join(lines)\n",
    "    Path(output_path).write_text(md_text, encoding=\"utf-8\")"
   ]
  },
  {
   "cell_type": "code",
   "execution_count": 4,
   "id": "f8be8b61",
   "metadata": {},
   "outputs": [
    {
     "ename": "KeyError",
     "evalue": "'language value counts'",
     "output_type": "error",
     "traceback": [
      "\u001b[31m---------------------------------------------------------------------------\u001b[39m",
      "\u001b[31mKeyError\u001b[39m                                  Traceback (most recent call last)",
      "\u001b[36mCell\u001b[39m\u001b[36m \u001b[39m\u001b[32mIn[4]\u001b[39m\u001b[32m, line 1\u001b[39m\n\u001b[32m----> \u001b[39m\u001b[32m1\u001b[39m \u001b[43mgenerate_md_pipeline_report\u001b[49m\u001b[43m(\u001b[49m\u001b[43mexploration_statistics\u001b[49m\u001b[43m,\u001b[49m\u001b[33;43m\"\u001b[39;49m\u001b[33;43m./summary_report.md\u001b[39;49m\u001b[33;43m\"\u001b[39;49m\u001b[43m)\u001b[49m\n",
      "\u001b[36mCell\u001b[39m\u001b[36m \u001b[39m\u001b[32mIn[3]\u001b[39m\u001b[32m, line 11\u001b[39m, in \u001b[36mgenerate_md_pipeline_report\u001b[39m\u001b[34m(stats_dict, output_path)\u001b[39m\n\u001b[32m      8\u001b[39m lines.append(\u001b[33mf\u001b[39m\u001b[33m\"\u001b[39m\u001b[33mTotal pipeline records is \u001b[39m\u001b[38;5;132;01m{\u001b[39;00mstats_dict[\u001b[33m'\u001b[39m\u001b[33mtotal records\u001b[39m\u001b[33m'\u001b[39m]\u001b[38;5;132;01m}\u001b[39;00m\u001b[33m\"\u001b[39m)\n\u001b[32m     10\u001b[39m lines.append(\u001b[33m\"\u001b[39m\u001b[33m# Languages summary\u001b[39m\u001b[33m\"\u001b[39m)\n\u001b[32m---> \u001b[39m\u001b[32m11\u001b[39m \u001b[38;5;28;01mfor\u001b[39;00m lan, val \u001b[38;5;129;01min\u001b[39;00m \u001b[38;5;28mzip\u001b[39m(\u001b[43mstats_dict\u001b[49m\u001b[43m[\u001b[49m\u001b[33;43m'\u001b[39;49m\u001b[33;43mlanguage value counts\u001b[39;49m\u001b[33;43m'\u001b[39;49m\u001b[43m]\u001b[49m.index, stats_dict[\u001b[33m'\u001b[39m\u001b[33mlanguage value counts\u001b[39m\u001b[33m'\u001b[39m].values):\n\u001b[32m     12\u001b[39m     lines.append(\u001b[33mf\u001b[39m\u001b[33m\"\u001b[39m\u001b[33m \u001b[39m\u001b[38;5;132;01m{\u001b[39;00mlan\u001b[38;5;132;01m}\u001b[39;00m\u001b[33m: \u001b[39m\u001b[38;5;132;01m{\u001b[39;00mval\u001b[38;5;132;01m}\u001b[39;00m\u001b[33m\"\u001b[39m)\n\u001b[32m     15\u001b[39m md_text = \u001b[33m\"\u001b[39m\u001b[38;5;130;01m\\n\u001b[39;00m\u001b[33m\"\u001b[39m.join(lines)\n",
      "\u001b[31mKeyError\u001b[39m: 'language value counts'"
     ]
    }
   ],
   "source": [
    "generate_md_pipeline_report(exploration_statistics,\"./summary_report.md\")"
   ]
  },
  {
   "cell_type": "code",
   "execution_count": 5,
   "id": "70a9bdb3",
   "metadata": {},
   "outputs": [
    {
     "ename": "KeyError",
     "evalue": "'language value counts'",
     "output_type": "error",
     "traceback": [
      "\u001b[31m---------------------------------------------------------------------------\u001b[39m",
      "\u001b[31mKeyError\u001b[39m                                  Traceback (most recent call last)",
      "\u001b[36mCell\u001b[39m\u001b[36m \u001b[39m\u001b[32mIn[5]\u001b[39m\u001b[32m, line 1\u001b[39m\n\u001b[32m----> \u001b[39m\u001b[32m1\u001b[39m \u001b[43mexploration_statistics\u001b[49m\u001b[43m[\u001b[49m\u001b[33;43m'\u001b[39;49m\u001b[33;43mlanguage value counts\u001b[39;49m\u001b[33;43m'\u001b[39;49m\u001b[43m]\u001b[49m.values\n",
      "\u001b[31mKeyError\u001b[39m: 'language value counts'"
     ]
    }
   ],
   "source": [
    "exploration_statistics['language value counts'].values"
   ]
  },
  {
   "cell_type": "code",
   "execution_count": 5,
   "id": "def5d3a3",
   "metadata": {},
   "outputs": [
    {
     "name": "stdout",
     "output_type": "stream",
     "text": [
      "                                                     text  \\\n",
      "0       In the never ending battle to rid Alaska of it...   \n",
      "1       » Jackpot | Deutsche Online Casinos und Casino...   \n",
      "2       This really was an unexpected pleasure. When I...   \n",
      "3       def files(self):\\n        \"\"\"Files in torrent....   \n",
      "4       Patient engagement in the design and delivery ...   \n",
      "...                                                   ...   \n",
      "269373  Our 1 to 1 Karting lessons are ideal to give y...   \n",
      "269374  function read(model) {\\n  var query = argument...   \n",
      "269375  In a land that is already fragile with earthqu...   \n",
      "269376                                  Simple, YES on 8!   \n",
      "269377  <p>How would I be able to get N results for se...   \n",
      "\n",
      "                                                      url  \n",
      "0                                                    None  \n",
      "1         http://www.casinodeutsch.net/stichwort/jackpot/  \n",
      "2       http://leekat.booklikes.com/post/608842/an-une...  \n",
      "3       https://github.com/idlesign/torrentool/blob/78...  \n",
      "4                     http://www.nhlc-cnls.ca/sessions/3/  \n",
      "...                                                   ...  \n",
      "269373  https://midlandkarting.co.uk/go-karting-events...  \n",
      "269374  https://github.com/endpoints/endpoints/blob/1e...  \n",
      "269375                                               None  \n",
      "269376                                               None  \n",
      "269377                                               None  \n",
      "\n",
      "[269378 rows x 2 columns]\n"
     ]
    }
   ],
   "source": [
    "filepath = \"../../data/raw/mainpipe_data_v1.jsonl\"\n",
    "data = []\n",
    "\n",
    "with open(filepath, 'r', encoding='utf-8') as file:\n",
    "    for line in file:\n",
    "        try:\n",
    "            data.append(json.loads(line))\n",
    "        except json.JSONDecodeError:\n",
    "            continue\n",
    "\n",
    "df = pd.DataFrame(data)\n",
    "print(df)"
   ]
  },
  {
   "cell_type": "code",
   "execution_count": 6,
   "id": "af4468c8",
   "metadata": {},
   "outputs": [],
   "source": [
    "exploration_statistics['total records'] = df.shape[0]"
   ]
  },
  {
   "cell_type": "markdown",
   "id": "190557d2",
   "metadata": {},
   "source": [
    "# Looking into data sources"
   ]
  },
  {
   "cell_type": "code",
   "execution_count": null,
   "id": "021310b9",
   "metadata": {},
   "outputs": [],
   "source": [
    "# get base urls\n",
    "df['base_url'] = df['url'].apply(lambda x: f\"{urlparse(x).scheme}://{urlparse(x).netloc}\")\n"
   ]
  },
  {
   "cell_type": "code",
   "execution_count": 30,
   "id": "7e18b922",
   "metadata": {},
   "outputs": [
    {
     "data": {
      "text/plain": [
       "base_url\n",
       "b''://b''                            90519\n",
       "https://github.com                   71415\n",
       "https://www.taiwannews.com.tw         2583\n",
       "https://en.wikipedia.org              2326\n",
       "https://placeholder.co                2110\n",
       "https://sample-company.net            1997\n",
       "https://example.com                   1991\n",
       "https://testsite.org                  1964\n",
       "https://demo-page.info                1938\n",
       "http://abcnews.go.com                 1771\n",
       "http://www.nigeriatoday.ng            1290\n",
       "https://www.yahoo.com                  946\n",
       "https://www.nigeriatoday.ng            872\n",
       "http://www.israelnationalnews.com      746\n",
       "https://www.nytimes.com                735\n",
       "http://www.wafb.com                    650\n",
       "http://uproxx.com                      624\n",
       "http://newyork.cbslocal.com            463\n",
       "https://www.engadget.com               452\n",
       "http://www.taiwannews.com.tw           447\n",
       "Name: count, dtype: int64"
      ]
     },
     "execution_count": 30,
     "metadata": {},
     "output_type": "execute_result"
    }
   ],
   "source": [
    "df['base_url'].value_counts().head(20)"
   ]
  },
  {
   "cell_type": "code",
   "execution_count": 44,
   "id": "3dff8708",
   "metadata": {},
   "outputs": [],
   "source": [
    "# looking specifically into github sources, as they are the most prevalent url\n",
    "github_df = df[df['base_url']=='https://github.com']\n",
    "github_df.to_csv('github rows.csv')"
   ]
  },
  {
   "cell_type": "code",
   "execution_count": 50,
   "id": "eba4a4c6",
   "metadata": {},
   "outputs": [
    {
     "name": "stderr",
     "output_type": "stream",
     "text": [
      "C:\\Users\\micha\\AppData\\Local\\Temp\\ipykernel_11324\\2427923053.py:3: SettingWithCopyWarning: \n",
      "A value is trying to be set on a copy of a slice from a DataFrame.\n",
      "Try using .loc[row_indexer,col_indexer] = value instead\n",
      "\n",
      "See the caveats in the documentation: https://pandas.pydata.org/pandas-docs/stable/user_guide/indexing.html#returning-a-view-versus-a-copy\n",
      "  github_df['programminglanguage'] = github_df['text'].str.extract(r'^(\\S+)')\n"
     ]
    },
    {
     "data": {
      "text/plain": [
       "programminglanguage\n",
       "def                   32002\n",
       "function              31678\n",
       "function()             1032\n",
       "async                   808\n",
       "function(               528\n",
       "                      ...  \n",
       "function(metadata,        2\n",
       "The                       1\n",
       "I                         1\n",
       "We                        1\n",
       "This                      1\n",
       "Name: count, Length: 1175, dtype: int64"
      ]
     },
     "execution_count": 50,
     "metadata": {},
     "output_type": "execute_result"
    }
   ],
   "source": [
    "# interestingly most github sources here are JS or python,\n",
    "# seeing what the text starts with\n",
    "github_df['programminglanguage'] = github_df['text'].str.extract(r'^(\\S+)')\n",
    "github_df['programminglanguage'].value_counts()"
   ]
  },
  {
   "cell_type": "markdown",
   "id": "2ec19aa9",
   "metadata": {},
   "source": [
    "# Looking into length distributions"
   ]
  },
  {
   "cell_type": "code",
   "execution_count": 7,
   "id": "62b58e90",
   "metadata": {},
   "outputs": [],
   "source": [
    "df['textlength'] = df['text'].str.len()\n"
   ]
  },
  {
   "cell_type": "code",
   "execution_count": null,
   "id": "c5f25813",
   "metadata": {},
   "outputs": [
    {
     "data": {
      "text/html": [
       "<div>\n",
       "<style scoped>\n",
       "    .dataframe tbody tr th:only-of-type {\n",
       "        vertical-align: middle;\n",
       "    }\n",
       "\n",
       "    .dataframe tbody tr th {\n",
       "        vertical-align: top;\n",
       "    }\n",
       "\n",
       "    .dataframe thead th {\n",
       "        text-align: right;\n",
       "    }\n",
       "</style>\n",
       "<table border=\"1\" class=\"dataframe\">\n",
       "  <thead>\n",
       "    <tr style=\"text-align: right;\">\n",
       "      <th></th>\n",
       "      <th>text</th>\n",
       "      <th>url</th>\n",
       "      <th>textlength</th>\n",
       "    </tr>\n",
       "  </thead>\n",
       "  <tbody>\n",
       "    <tr>\n",
       "      <th>549</th>\n",
       "      <td>OK</td>\n",
       "      <td>None</td>\n",
       "      <td>2</td>\n",
       "    </tr>\n",
       "    <tr>\n",
       "      <th>736</th>\n",
       "      <td>Thanks</td>\n",
       "      <td>None</td>\n",
       "      <td>6</td>\n",
       "    </tr>\n",
       "    <tr>\n",
       "      <th>996</th>\n",
       "      <td>Good.</td>\n",
       "      <td>None</td>\n",
       "      <td>5</td>\n",
       "    </tr>\n",
       "    <tr>\n",
       "      <th>1100</th>\n",
       "      <td>LOL</td>\n",
       "      <td>None</td>\n",
       "      <td>3</td>\n",
       "    </tr>\n",
       "    <tr>\n",
       "      <th>2277</th>\n",
       "      <td>2016</td>\n",
       "      <td>None</td>\n",
       "      <td>4</td>\n",
       "    </tr>\n",
       "    <tr>\n",
       "      <th>...</th>\n",
       "      <td>...</td>\n",
       "      <td>...</td>\n",
       "      <td>...</td>\n",
       "    </tr>\n",
       "    <tr>\n",
       "      <th>264909</th>\n",
       "      <td>Kool-aid</td>\n",
       "      <td>None</td>\n",
       "      <td>8</td>\n",
       "    </tr>\n",
       "    <tr>\n",
       "      <th>266444</th>\n",
       "      <td>OK</td>\n",
       "      <td>None</td>\n",
       "      <td>2</td>\n",
       "    </tr>\n",
       "    <tr>\n",
       "      <th>266530</th>\n",
       "      <td>How so?</td>\n",
       "      <td>None</td>\n",
       "      <td>7</td>\n",
       "    </tr>\n",
       "    <tr>\n",
       "      <th>266723</th>\n",
       "      <td>Why?</td>\n",
       "      <td>None</td>\n",
       "      <td>4</td>\n",
       "    </tr>\n",
       "    <tr>\n",
       "      <th>268606</th>\n",
       "      <td>Thanks</td>\n",
       "      <td>None</td>\n",
       "      <td>6</td>\n",
       "    </tr>\n",
       "  </tbody>\n",
       "</table>\n",
       "<p>453 rows × 3 columns</p>\n",
       "</div>"
      ],
      "text/plain": [
       "            text   url  textlength\n",
       "549           OK  None           2\n",
       "736       Thanks  None           6\n",
       "996        Good.  None           5\n",
       "1100         LOL  None           3\n",
       "2277        2016  None           4\n",
       "...          ...   ...         ...\n",
       "264909  Kool-aid  None           8\n",
       "266444        OK  None           2\n",
       "266530   How so?  None           7\n",
       "266723      Why?  None           4\n",
       "268606    Thanks  None           6\n",
       "\n",
       "[453 rows x 3 columns]"
      ]
     },
     "execution_count": 8,
     "metadata": {},
     "output_type": "execute_result"
    }
   ],
   "source": [
    "# Looking into very short docs\n",
    "# justify why using 10 words\n",
    "df_short_docs = df[df['textlength'] < 10]\n",
    "df_short_docs"
   ]
  },
  {
   "cell_type": "code",
   "execution_count": null,
   "id": "c237bce6",
   "metadata": {},
   "outputs": [
    {
     "data": {
      "text/html": [
       "<div>\n",
       "<style scoped>\n",
       "    .dataframe tbody tr th:only-of-type {\n",
       "        vertical-align: middle;\n",
       "    }\n",
       "\n",
       "    .dataframe tbody tr th {\n",
       "        vertical-align: top;\n",
       "    }\n",
       "\n",
       "    .dataframe thead th {\n",
       "        text-align: right;\n",
       "    }\n",
       "</style>\n",
       "<table border=\"1\" class=\"dataframe\">\n",
       "  <thead>\n",
       "    <tr style=\"text-align: right;\">\n",
       "      <th></th>\n",
       "      <th>text</th>\n",
       "      <th>url</th>\n",
       "      <th>textlength</th>\n",
       "    </tr>\n",
       "  </thead>\n",
       "  <tbody>\n",
       "    <tr>\n",
       "      <th>244</th>\n",
       "      <td>British Virgin Islands\\n\\nThe British Virgin I...</td>\n",
       "      <td>https://en.wikipedia.org/wiki/British%20Virgin...</td>\n",
       "      <td>32563</td>\n",
       "    </tr>\n",
       "    <tr>\n",
       "      <th>733</th>\n",
       "      <td>Apollo 12\\n\\nApollo 12 (November 14–24, 1969) ...</td>\n",
       "      <td>https://en.wikipedia.org/wiki/Apollo%2012</td>\n",
       "      <td>36948</td>\n",
       "    </tr>\n",
       "    <tr>\n",
       "      <th>863</th>\n",
       "      <td>Blood libel\\n\\nBlood libel or ritual murder li...</td>\n",
       "      <td>https://en.wikipedia.org/wiki/Blood%20libel</td>\n",
       "      <td>41584</td>\n",
       "    </tr>\n",
       "    <tr>\n",
       "      <th>902</th>\n",
       "      <td>Chipre • es.knowledger.de\\nChipre , oficialmen...</td>\n",
       "      <td>http://es.knowledger.de/0004786/Chipre</td>\n",
       "      <td>62833</td>\n",
       "    </tr>\n",
       "    <tr>\n",
       "      <th>953</th>\n",
       "      <td>Aspirin\\n\\nAspirin, also known as acetylsalicy...</td>\n",
       "      <td>https://en.wikipedia.org/wiki/Aspirin</td>\n",
       "      <td>51290</td>\n",
       "    </tr>\n",
       "    <tr>\n",
       "      <th>...</th>\n",
       "      <td>...</td>\n",
       "      <td>...</td>\n",
       "      <td>...</td>\n",
       "    </tr>\n",
       "    <tr>\n",
       "      <th>268218</th>\n",
       "      <td>Economy of Canada\\n\\nThe economy of Canada is ...</td>\n",
       "      <td>https://en.wikipedia.org/wiki/Economy%20of%20C...</td>\n",
       "      <td>37259</td>\n",
       "    </tr>\n",
       "    <tr>\n",
       "      <th>268249</th>\n",
       "      <td>British Army\\n\\nThe British Army is the princi...</td>\n",
       "      <td>https://en.wikipedia.org/wiki/British%20Army</td>\n",
       "      <td>54162</td>\n",
       "    </tr>\n",
       "    <tr>\n",
       "      <th>268478</th>\n",
       "      <td>Baseball statistics\\n\\nBaseball statistics pla...</td>\n",
       "      <td>https://en.wikipedia.org/wiki/Baseball%20stati...</td>\n",
       "      <td>21601</td>\n",
       "    </tr>\n",
       "    <tr>\n",
       "      <th>268660</th>\n",
       "      <td>American Civil Liberties Union\\n\\nThe American...</td>\n",
       "      <td>https://en.wikipedia.org/wiki/American%20Civil...</td>\n",
       "      <td>117968</td>\n",
       "    </tr>\n",
       "    <tr>\n",
       "      <th>268917</th>\n",
       "      <td>Retinopathy of prematurity: An update on scree...</td>\n",
       "      <td>https://www.gratisoa.org/journals/index.php/IP...</td>\n",
       "      <td>31278</td>\n",
       "    </tr>\n",
       "  </tbody>\n",
       "</table>\n",
       "<p>1641 rows × 3 columns</p>\n",
       "</div>"
      ],
      "text/plain": [
       "                                                     text  \\\n",
       "244     British Virgin Islands\\n\\nThe British Virgin I...   \n",
       "733     Apollo 12\\n\\nApollo 12 (November 14–24, 1969) ...   \n",
       "863     Blood libel\\n\\nBlood libel or ritual murder li...   \n",
       "902     Chipre • es.knowledger.de\\nChipre , oficialmen...   \n",
       "953     Aspirin\\n\\nAspirin, also known as acetylsalicy...   \n",
       "...                                                   ...   \n",
       "268218  Economy of Canada\\n\\nThe economy of Canada is ...   \n",
       "268249  British Army\\n\\nThe British Army is the princi...   \n",
       "268478  Baseball statistics\\n\\nBaseball statistics pla...   \n",
       "268660  American Civil Liberties Union\\n\\nThe American...   \n",
       "268917  Retinopathy of prematurity: An update on scree...   \n",
       "\n",
       "                                                      url  textlength  \n",
       "244     https://en.wikipedia.org/wiki/British%20Virgin...       32563  \n",
       "733             https://en.wikipedia.org/wiki/Apollo%2012       36948  \n",
       "863           https://en.wikipedia.org/wiki/Blood%20libel       41584  \n",
       "902                http://es.knowledger.de/0004786/Chipre       62833  \n",
       "953                 https://en.wikipedia.org/wiki/Aspirin       51290  \n",
       "...                                                   ...         ...  \n",
       "268218  https://en.wikipedia.org/wiki/Economy%20of%20C...       37259  \n",
       "268249       https://en.wikipedia.org/wiki/British%20Army       54162  \n",
       "268478  https://en.wikipedia.org/wiki/Baseball%20stati...       21601  \n",
       "268660  https://en.wikipedia.org/wiki/American%20Civil...      117968  \n",
       "268917  https://www.gratisoa.org/journals/index.php/IP...       31278  \n",
       "\n",
       "[1641 rows x 3 columns]"
      ]
     },
     "execution_count": 12,
     "metadata": {},
     "output_type": "execute_result"
    }
   ],
   "source": [
    "# Looking into very long docs\n",
    "# justification of 20,000\n",
    "df_long_docs = df[df['textlength'] > 20000]\n",
    "df_long_docs\n",
    "# Split in paragraphs?"
   ]
  },
  {
   "cell_type": "code",
   "execution_count": 9,
   "id": "b0b90301",
   "metadata": {},
   "outputs": [
    {
     "data": {
      "text/plain": [
       "<Axes: >"
      ]
     },
     "execution_count": 9,
     "metadata": {},
     "output_type": "execute_result"
    },
    {
     "data": {
      "image/png": "[encoded data removed]",
      "text/plain": [
       "<Figure size 640x480 with 1 Axes>"
      ]
     },
     "metadata": {},
     "output_type": "display_data"
    }
   ],
   "source": [
    "df['textlength'].hist(bins=6)"
   ]
  },
  {
   "cell_type": "code",
   "execution_count": 10,
   "id": "974b3b6c",
   "metadata": {},
   "outputs": [
    {
     "data": {
      "text/plain": [
       "np.int64(372627)"
      ]
     },
     "execution_count": 10,
     "metadata": {},
     "output_type": "execute_result"
    }
   ],
   "source": [
    "df['textlength'].max()"
   ]
  },
  {
   "cell_type": "markdown",
   "id": "885ac295",
   "metadata": {},
   "source": [
    "# Looking at duplicates"
   ]
  },
  {
   "cell_type": "code",
   "execution_count": 15,
   "id": "677524f0",
   "metadata": {},
   "outputs": [
    {
     "name": "stdout",
     "output_type": "stream",
     "text": [
      "48482\n"
     ]
    }
   ],
   "source": [
    "# initial look at exact duplicates\n",
    "print(int(df['text'].duplicated().sum()))"
   ]
  },
  {
   "cell_type": "markdown",
   "id": "c10ed7ee",
   "metadata": {},
   "source": [
    "# Looking into UTF-8 encoding"
   ]
  },
  {
   "cell_type": "code",
   "execution_count": 11,
   "id": "002ff8b6",
   "metadata": {},
   "outputs": [],
   "source": [
    "# using to_string defaults the text encoding to utf-8\n",
    "df['text'] = df['text'].to_string()"
   ]
  },
  {
   "cell_type": "markdown",
   "id": "f22eeacc",
   "metadata": {},
   "source": [
    "# Looking into null/empty text entries"
   ]
  },
  {
   "cell_type": "code",
   "execution_count": 12,
   "id": "bc9b84aa",
   "metadata": {},
   "outputs": [
    {
     "name": "stdout",
     "output_type": "stream",
     "text": [
      "0\n"
     ]
    }
   ],
   "source": [
    "print(df['text'].isnull().sum())\n",
    "# No null entries in the text col\n",
    "exploration_statistics[\"null text records\"] = int(df['text'].isnull().sum())"
   ]
  },
  {
   "cell_type": "markdown",
   "id": "f97f5ef8",
   "metadata": {},
   "source": [
    "# Looking into empty urls"
   ]
  },
  {
   "cell_type": "code",
   "execution_count": 27,
   "id": "8136df09",
   "metadata": {},
   "outputs": [
    {
     "data": {
      "text/plain": [
       "{'total records': 269378, 'null text records': 0, 'null urls': 90519}"
      ]
     },
     "execution_count": 27,
     "metadata": {},
     "output_type": "execute_result"
    }
   ],
   "source": [
    "exploration_statistics"
   ]
  },
  {
   "cell_type": "code",
   "execution_count": 26,
   "id": "60f08a45",
   "metadata": {},
   "outputs": [
    {
     "name": "stdout",
     "output_type": "stream",
     "text": [
      "90519\n"
     ]
    },
    {
     "data": {
      "text/html": [
       "<div>\n",
       "<style scoped>\n",
       "    .dataframe tbody tr th:only-of-type {\n",
       "        vertical-align: middle;\n",
       "    }\n",
       "\n",
       "    .dataframe tbody tr th {\n",
       "        vertical-align: top;\n",
       "    }\n",
       "\n",
       "    .dataframe thead th {\n",
       "        text-align: right;\n",
       "    }\n",
       "</style>\n",
       "<table border=\"1\" class=\"dataframe\">\n",
       "  <thead>\n",
       "    <tr style=\"text-align: right;\">\n",
       "      <th></th>\n",
       "      <th>text</th>\n",
       "      <th>url</th>\n",
       "    </tr>\n",
       "  </thead>\n",
       "  <tbody>\n",
       "    <tr>\n",
       "      <th>0</th>\n",
       "      <td>In the never ending battle to rid Alaska of it...</td>\n",
       "      <td>None</td>\n",
       "    </tr>\n",
       "    <tr>\n",
       "      <th>7</th>\n",
       "      <td>&lt;p&gt;Ubuntu 9.10&lt;/p&gt;\\n\\n&lt;p&gt;Silly question time: ...</td>\n",
       "      <td>None</td>\n",
       "    </tr>\n",
       "    <tr>\n",
       "      <th>8</th>\n",
       "      <td>Actually, if during the commission of a felony...</td>\n",
       "      <td>None</td>\n",
       "    </tr>\n",
       "    <tr>\n",
       "      <th>10</th>\n",
       "      <td>&lt;p&gt;I'd like to setup a column in excel with se...</td>\n",
       "      <td>None</td>\n",
       "    </tr>\n",
       "    <tr>\n",
       "      <th>11</th>\n",
       "      <td>Very Cool.</td>\n",
       "      <td>None</td>\n",
       "    </tr>\n",
       "    <tr>\n",
       "      <th>...</th>\n",
       "      <td>...</td>\n",
       "      <td>...</td>\n",
       "    </tr>\n",
       "    <tr>\n",
       "      <th>269367</th>\n",
       "      <td>&lt;p&gt;I have Firefox 10.6.3 installed on Mac OS X...</td>\n",
       "      <td>None</td>\n",
       "    </tr>\n",
       "    <tr>\n",
       "      <th>269370</th>\n",
       "      <td>I remember reading The Catcher in the Rye at 1...</td>\n",
       "      <td>None</td>\n",
       "    </tr>\n",
       "    <tr>\n",
       "      <th>269375</th>\n",
       "      <td>In a land that is already fragile with earthqu...</td>\n",
       "      <td>None</td>\n",
       "    </tr>\n",
       "    <tr>\n",
       "      <th>269376</th>\n",
       "      <td>Simple, YES on 8!</td>\n",
       "      <td>None</td>\n",
       "    </tr>\n",
       "    <tr>\n",
       "      <th>269377</th>\n",
       "      <td>&lt;p&gt;How would I be able to get N results for se...</td>\n",
       "      <td>None</td>\n",
       "    </tr>\n",
       "  </tbody>\n",
       "</table>\n",
       "<p>90519 rows × 2 columns</p>\n",
       "</div>"
      ],
      "text/plain": [
       "                                                     text   url\n",
       "0       In the never ending battle to rid Alaska of it...  None\n",
       "7       <p>Ubuntu 9.10</p>\\n\\n<p>Silly question time: ...  None\n",
       "8       Actually, if during the commission of a felony...  None\n",
       "10      <p>I'd like to setup a column in excel with se...  None\n",
       "11                                             Very Cool.  None\n",
       "...                                                   ...   ...\n",
       "269367  <p>I have Firefox 10.6.3 installed on Mac OS X...  None\n",
       "269370  I remember reading The Catcher in the Rye at 1...  None\n",
       "269375  In a land that is already fragile with earthqu...  None\n",
       "269376                                  Simple, YES on 8!  None\n",
       "269377  <p>How would I be able to get N results for se...  None\n",
       "\n",
       "[90519 rows x 2 columns]"
      ]
     },
     "execution_count": 26,
     "metadata": {},
     "output_type": "execute_result"
    }
   ],
   "source": [
    "print(df['url'].isna().sum()) # there is a significant amount of entries with no url\n",
    "exploration_statistics[\"null urls\"] = int(df['url'].isna().sum())\n",
    "df_empty_urls = df[df['url'].isna()]\n",
    "df_empty_urls"
   ]
  },
  {
   "cell_type": "code",
   "execution_count": null,
   "id": "d6a52840",
   "metadata": {},
   "outputs": [],
   "source": [
    "# for now the empty urls will be ignored but this is notably a data sourcing issue\n",
    "# how do you explain this data if you need to later?"
   ]
  },
  {
   "cell_type": "markdown",
   "id": "2052a329",
   "metadata": {},
   "source": [
    "# Looking into website sources"
   ]
  },
  {
   "cell_type": "code",
   "execution_count": 7,
   "id": "c2bd4480",
   "metadata": {},
   "outputs": [],
   "source": [
    "value_counts = df['url'].value_counts()\n",
    "value_counts.to_csv('value counts.txt')"
   ]
  },
  {
   "cell_type": "code",
   "execution_count": 8,
   "id": "a388cc54",
   "metadata": {},
   "outputs": [
    {
     "ename": "SyntaxError",
     "evalue": "invalid syntax (775707707.py, line 1)",
     "output_type": "error",
     "traceback": [
      "  \u001b[36mCell\u001b[39m\u001b[36m \u001b[39m\u001b[32mIn[8]\u001b[39m\u001b[32m, line 1\u001b[39m\n\u001b[31m    \u001b[39m\u001b[31mdf['Base url'] = df['url'].str.\u001b[39m\n                                   ^\n\u001b[31mSyntaxError\u001b[39m\u001b[31m:\u001b[39m invalid syntax\n"
     ]
    }
   ],
   "source": [
    "df['Base url'] = df['url'].str."
   ]
  },
  {
   "cell_type": "markdown",
   "id": "a2f1f7f3",
   "metadata": {},
   "source": [
    "# Manual data inspection"
   ]
  },
  {
   "cell_type": "code",
   "execution_count": 14,
   "id": "fdbd7677",
   "metadata": {},
   "outputs": [],
   "source": [
    "df['text'].sample(20, random_state=42).to_csv('sample1.txt')"
   ]
  },
  {
   "cell_type": "code",
   "execution_count": 16,
   "id": "7c17d01e",
   "metadata": {},
   "outputs": [],
   "source": [
    "df['text'].sample(20, random_state=41).to_csv('sample2.txt')"
   ]
  },
  {
   "cell_type": "code",
   "execution_count": null,
   "id": "fb41f02f",
   "metadata": {},
   "outputs": [],
   "source": []
  },
  {
   "cell_type": "markdown",
   "id": "0c0a1316",
   "metadata": {},
   "source": [
    "# Languages"
   ]
  },
  {
   "cell_type": "code",
   "execution_count": 28,
   "id": "c3155715",
   "metadata": {},
   "outputs": [],
   "source": [
    "# Looking at the languages in the text data using langdetect\n",
    "def detect_language(text):\n",
    "    try:\n",
    "        return detect(text)\n",
    "    except LangDetectException:\n",
    "        return \"Unknown\"\n",
    "\n",
    "df['language'] = df['text'].apply(detect_language)"
   ]
  },
  {
   "cell_type": "code",
   "execution_count": 30,
   "id": "8f240769",
   "metadata": {},
   "outputs": [],
   "source": [
    "exploration_statistics['language value counts'] = df['language'].value_counts()"
   ]
  },
  {
   "cell_type": "code",
   "execution_count": 35,
   "id": "b242165f",
   "metadata": {},
   "outputs": [
    {
     "data": {
      "text/plain": [
       "language\n",
       "en         244558\n",
       "de          10309\n",
       "es           8626\n",
       "fr           1521\n",
       "ca           1249\n",
       "da            856\n",
       "it            283\n",
       "sv            254\n",
       "ro            245\n",
       "no            245\n",
       "nl            233\n",
       "af            178\n",
       "pt            116\n",
       "cy             92\n",
       "Unknown        92\n",
       "ru             69\n",
       "so             68\n",
       "id             53\n",
       "sq             51\n",
       "tl             48\n",
       "et             36\n",
       "sk             28\n",
       "uk             26\n",
       "fi             22\n",
       "pl             21\n",
       "hr             16\n",
       "tr             15\n",
       "vi             15\n",
       "sl             11\n",
       "lt             10\n",
       "hu              9\n",
       "sw              7\n",
       "bg              5\n",
       "lv              4\n",
       "mk              4\n",
       "cs              2\n",
       "he              1\n",
       "Name: count, dtype: int64"
      ]
     },
     "execution_count": 35,
     "metadata": {},
     "output_type": "execute_result"
    }
   ],
   "source": [
    "df['language'].value_counts()"
   ]
  },
  {
   "cell_type": "code",
   "execution_count": 31,
   "id": "af12d465",
   "metadata": {},
   "outputs": [
    {
     "data": {
      "text/plain": [
       "{'total records': 269378,\n",
       " 'null text records': 0,\n",
       " 'null urls': 90519,\n",
       " 'language value counts': language\n",
       " en         244558\n",
       " de          10309\n",
       " es           8626\n",
       " fr           1521\n",
       " ca           1249\n",
       " da            856\n",
       " it            283\n",
       " sv            254\n",
       " ro            245\n",
       " no            245\n",
       " nl            233\n",
       " af            178\n",
       " pt            116\n",
       " cy             92\n",
       " Unknown        92\n",
       " ru             69\n",
       " so             68\n",
       " id             53\n",
       " sq             51\n",
       " tl             48\n",
       " et             36\n",
       " sk             28\n",
       " uk             26\n",
       " fi             22\n",
       " pl             21\n",
       " hr             16\n",
       " tr             15\n",
       " vi             15\n",
       " sl             11\n",
       " lt             10\n",
       " hu              9\n",
       " sw              7\n",
       " bg              5\n",
       " lv              4\n",
       " mk              4\n",
       " cs              2\n",
       " he              1\n",
       " Name: count, dtype: int64}"
      ]
     },
     "execution_count": 31,
     "metadata": {},
     "output_type": "execute_result"
    }
   ],
   "source": [
    "exploration_statistics"
   ]
  },
  {
   "cell_type": "code",
   "execution_count": 34,
   "id": "318b1c50",
   "metadata": {},
   "outputs": [],
   "source": [
    "# Interestingly there are some rows with unknown language\n",
    "unknown_languages_df = df[df['language'] == \"Unknown\"]\n",
    "unknown_languages_df.to_csv('unknown_languages.txt')"
   ]
  },
  {
   "cell_type": "code",
   "execution_count": null,
   "id": "9ad89e42",
   "metadata": {},
   "outputs": [],
   "source": [
    "# Notably most of the unknown language entries are emojis or URLS in the text column\n",
    "# or '+1'"
   ]
  },
  {
   "cell_type": "markdown",
   "id": "f59301ad",
   "metadata": {},
   "source": [
    "# Functions"
   ]
  },
  {
   "cell_type": "code",
   "execution_count": 31,
   "id": "e7d49fbd",
   "metadata": {},
   "outputs": [
    {
     "name": "stdout",
     "output_type": "stream",
     "text": [
      "33139\n"
     ]
    }
   ],
   "source": [
    "# how many rows contain 'def ' as a marker for functions\n",
    "print(int(df['text'].str.contains('def ').sum()))\n"
   ]
  },
  {
   "cell_type": "code",
   "execution_count": 32,
   "id": "2b17db5a",
   "metadata": {},
   "outputs": [
    {
     "data": {
      "text/html": [
       "<div>\n",
       "<style scoped>\n",
       "    .dataframe tbody tr th:only-of-type {\n",
       "        vertical-align: middle;\n",
       "    }\n",
       "\n",
       "    .dataframe tbody tr th {\n",
       "        vertical-align: top;\n",
       "    }\n",
       "\n",
       "    .dataframe thead th {\n",
       "        text-align: right;\n",
       "    }\n",
       "</style>\n",
       "<table border=\"1\" class=\"dataframe\">\n",
       "  <thead>\n",
       "    <tr style=\"text-align: right;\">\n",
       "      <th></th>\n",
       "      <th>text</th>\n",
       "      <th>url</th>\n",
       "      <th>textlength</th>\n",
       "      <th>base_url</th>\n",
       "    </tr>\n",
       "  </thead>\n",
       "  <tbody>\n",
       "    <tr>\n",
       "      <th>3</th>\n",
       "      <td>def files(self):\\n        \"\"\"Files in torrent....</td>\n",
       "      <td>https://github.com/idlesign/torrentool/blob/78...</td>\n",
       "      <td>527</td>\n",
       "      <td>https://github.com</td>\n",
       "    </tr>\n",
       "    <tr>\n",
       "      <th>12</th>\n",
       "      <td>def list_friends(self, delegate, user=None, pa...</td>\n",
       "      <td>https://github.com/dustin/twitty-twister/blob/...</td>\n",
       "      <td>437</td>\n",
       "      <td>https://github.com</td>\n",
       "    </tr>\n",
       "    <tr>\n",
       "      <th>18</th>\n",
       "      <td>def friendly_name(self):\\n        \"\"\"Get frien...</td>\n",
       "      <td>https://github.com/happyleavesaoc/python-snapc...</td>\n",
       "      <td>223</td>\n",
       "      <td>https://github.com</td>\n",
       "    </tr>\n",
       "    <tr>\n",
       "      <th>22</th>\n",
       "      <td>def make_filter_list(filters):\\n    \"\"\"Transfo...</td>\n",
       "      <td>https://github.com/dfm/python-fsps/blob/29b81d...</td>\n",
       "      <td>624</td>\n",
       "      <td>https://github.com</td>\n",
       "    </tr>\n",
       "    <tr>\n",
       "      <th>33</th>\n",
       "      <td>def bisect(func, a, b, xtol=1e-6, errorcontrol...</td>\n",
       "      <td>https://github.com/andim/noisyopt/blob/91a748f...</td>\n",
       "      <td>2894</td>\n",
       "      <td>https://github.com</td>\n",
       "    </tr>\n",
       "    <tr>\n",
       "      <th>...</th>\n",
       "      <td>...</td>\n",
       "      <td>...</td>\n",
       "      <td>...</td>\n",
       "      <td>...</td>\n",
       "    </tr>\n",
       "    <tr>\n",
       "      <th>269334</th>\n",
       "      <td>def ticker(rest):\\n\\t\"Look up a ticker symbol'...</td>\n",
       "      <td>https://github.com/yougov/pmxbot/blob/5da84a32...</td>\n",
       "      <td>721</td>\n",
       "      <td>https://github.com</td>\n",
       "    </tr>\n",
       "    <tr>\n",
       "      <th>269341</th>\n",
       "      <td>def setproxy(ctx, proxy_account, account):\\n  ...</td>\n",
       "      <td>https://github.com/bitshares/uptick/blob/66c10...</td>\n",
       "      <td>165</td>\n",
       "      <td>https://github.com</td>\n",
       "    </tr>\n",
       "    <tr>\n",
       "      <th>269343</th>\n",
       "      <td>def _lookup_consumer_tag_by_consumer(self, con...</td>\n",
       "      <td>https://github.com/agoragames/haigha/blob/7b00...</td>\n",
       "      <td>443</td>\n",
       "      <td>https://github.com</td>\n",
       "    </tr>\n",
       "    <tr>\n",
       "      <th>269358</th>\n",
       "      <td>def xrify_tuples(self, tup):\\n        \"\"\"Make ...</td>\n",
       "      <td>https://github.com/pytroll/trollimage/blob/d35...</td>\n",
       "      <td>219</td>\n",
       "      <td>https://github.com</td>\n",
       "    </tr>\n",
       "    <tr>\n",
       "      <th>269363</th>\n",
       "      <td>def generate_txt(self):\\n        \"\"\"Generates ...</td>\n",
       "      <td>https://github.com/ssalentin/plip/blob/906c8d3...</td>\n",
       "      <td>2230</td>\n",
       "      <td>https://github.com</td>\n",
       "    </tr>\n",
       "  </tbody>\n",
       "</table>\n",
       "<p>33139 rows × 4 columns</p>\n",
       "</div>"
      ],
      "text/plain": [
       "                                                     text  \\\n",
       "3       def files(self):\\n        \"\"\"Files in torrent....   \n",
       "12      def list_friends(self, delegate, user=None, pa...   \n",
       "18      def friendly_name(self):\\n        \"\"\"Get frien...   \n",
       "22      def make_filter_list(filters):\\n    \"\"\"Transfo...   \n",
       "33      def bisect(func, a, b, xtol=1e-6, errorcontrol...   \n",
       "...                                                   ...   \n",
       "269334  def ticker(rest):\\n\\t\"Look up a ticker symbol'...   \n",
       "269341  def setproxy(ctx, proxy_account, account):\\n  ...   \n",
       "269343  def _lookup_consumer_tag_by_consumer(self, con...   \n",
       "269358  def xrify_tuples(self, tup):\\n        \"\"\"Make ...   \n",
       "269363  def generate_txt(self):\\n        \"\"\"Generates ...   \n",
       "\n",
       "                                                      url  textlength  \\\n",
       "3       https://github.com/idlesign/torrentool/blob/78...         527   \n",
       "12      https://github.com/dustin/twitty-twister/blob/...         437   \n",
       "18      https://github.com/happyleavesaoc/python-snapc...         223   \n",
       "22      https://github.com/dfm/python-fsps/blob/29b81d...         624   \n",
       "33      https://github.com/andim/noisyopt/blob/91a748f...        2894   \n",
       "...                                                   ...         ...   \n",
       "269334  https://github.com/yougov/pmxbot/blob/5da84a32...         721   \n",
       "269341  https://github.com/bitshares/uptick/blob/66c10...         165   \n",
       "269343  https://github.com/agoragames/haigha/blob/7b00...         443   \n",
       "269358  https://github.com/pytroll/trollimage/blob/d35...         219   \n",
       "269363  https://github.com/ssalentin/plip/blob/906c8d3...        2230   \n",
       "\n",
       "                  base_url  \n",
       "3       https://github.com  \n",
       "12      https://github.com  \n",
       "18      https://github.com  \n",
       "22      https://github.com  \n",
       "33      https://github.com  \n",
       "...                    ...  \n",
       "269334  https://github.com  \n",
       "269341  https://github.com  \n",
       "269343  https://github.com  \n",
       "269358  https://github.com  \n",
       "269363  https://github.com  \n",
       "\n",
       "[33139 rows x 4 columns]"
      ]
     },
     "execution_count": 32,
     "metadata": {},
     "output_type": "execute_result"
    }
   ],
   "source": [
    "functions_df = df[df['text'].str.contains('def ')]\n",
    "functions_df"
   ]
  },
  {
   "cell_type": "code",
   "execution_count": 33,
   "id": "dfb507b0",
   "metadata": {},
   "outputs": [
    {
     "data": {
      "text/plain": [
       "base_url\n",
       "https://github.com                         32530\n",
       "b''://b''                                    578\n",
       "https://en.wikipedia.org                       4\n",
       "http://nehandaradio.com                        2\n",
       "https://easy3monthpaydayloans12.co.uk          1\n",
       "https://variety.com                            1\n",
       "https://www.bachmanntrains.com                 1\n",
       "https://lushalot.com                           1\n",
       "http://www.beritaharian.sg                     1\n",
       "http://hemeroteca.lavanguardia.com             1\n",
       "http://www.eatingwell.com                      1\n",
       "https://forum.purseblog.com                    1\n",
       "https://accu.org                               1\n",
       "http://engagingthemoment.com                   1\n",
       "https://www.engadget.com                       1\n",
       "https://www.rodef-shalom.org                   1\n",
       "https://rumratings.com                         1\n",
       "https://www.bellechantelle.com                 1\n",
       "https://www.bigmacktrucks.com                  1\n",
       "https://cwecrc.de                              1\n",
       "http://taperssection.com                       1\n",
       "http://www.megcady.com                         1\n",
       "https://blog.jetbrains.com                     1\n",
       "http://inersenle.c0.pl                         1\n",
       "http://www.edizioniferrarisinibaldi.com        1\n",
       "https://www.slideshare.net                     1\n",
       "http://mnfilmarts.org                          1\n",
       "http://www.javamexico.org                      1\n",
       "https://www.rune-server.ee                     1\n",
       "Name: count, dtype: int64"
      ]
     },
     "execution_count": 33,
     "metadata": {},
     "output_type": "execute_result"
    }
   ],
   "source": [
    "# looking into the sources of function text\n",
    "functions_df['base_url'].value_counts()"
   ]
  },
  {
   "cell_type": "code",
   "execution_count": 42,
   "id": "7491756e",
   "metadata": {},
   "outputs": [],
   "source": [
    "githubdf = functions_df[functions_df['base_url'] == 'https://github.com']\n",
    "githubdf.to_csv(\"Github code pages.csv\")"
   ]
  },
  {
   "cell_type": "code",
   "execution_count": 38,
   "id": "53acda13",
   "metadata": {},
   "outputs": [
    {
     "data": {
      "text/plain": [
       "\"Another Mp7 question. I am looking for #3 exhaust pipe for a 2007 ctp713b. Mack part #4ME5160AM. The local mack dealer isn't much help. Anybody deal much with bafter market? Where is a good place to try? Thanks.\\ni have a 2007 pre def mp7. Trying to remove the plug for the injector harness on back of the engine. Whats the trick?\""
      ]
     },
     "execution_count": 38,
     "metadata": {},
     "output_type": "execute_result"
    }
   ],
   "source": [
    "functions_df.loc[126288, 'text']"
   ]
  }
 ],
 "metadata": {
  "kernelspec": {
   "display_name": "venv",
   "language": "python",
   "name": "python3"
  },
  "language_info": {
   "codemirror_mode": {
    "name": "ipython",
    "version": 3
   },
   "file_extension": ".py",
   "mimetype": "text/x-python",
   "name": "python",
   "nbconvert_exporter": "python",
   "pygments_lexer": "ipython3",
   "version": "3.11.2"
  }
 },
 "nbformat": 4,
 "nbformat_minor": 5
}
