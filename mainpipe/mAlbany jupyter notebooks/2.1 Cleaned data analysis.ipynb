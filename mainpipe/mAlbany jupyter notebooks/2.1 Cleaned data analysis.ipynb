{
 "cells": [
  {
   "cell_type": "code",
   "execution_count": 9,
   "id": "745642ce",
   "metadata": {},
   "outputs": [],
   "source": [
    "import numpy as np\n",
    "import pandas as pd\n",
    "import json"
   ]
  },
  {
   "cell_type": "code",
   "execution_count": 3,
   "id": "43678b79",
   "metadata": {},
   "outputs": [],
   "source": [
    "data = np.load('cleaned_csv_test_tokens.npy', allow_pickle=True)"
   ]
  },
  {
   "cell_type": "code",
   "execution_count": 4,
   "id": "3008091d",
   "metadata": {},
   "outputs": [
    {
     "data": {
      "text/plain": [
       "array([[818, 262, 1239, ..., 50256, 50256, 50256],\n",
       "       [3619, 13059, 930, ..., 301, 288, 620],\n",
       "       [1212, 1107, 373, ..., 50256, 50256, 50256],\n",
       "       ...,\n",
       "       [818, 257, 1956, ..., 50256, 50256, 50256],\n",
       "       [26437, 11, 21560, ..., 50256, 50256, 50256],\n",
       "       [2437, 561, 314, ..., 50256, 50256, 50256]],\n",
       "      shape=(269378, 512), dtype=object)"
      ]
     },
     "execution_count": 4,
     "metadata": {},
     "output_type": "execute_result"
    }
   ],
   "source": [
    "data"
   ]
  },
  {
   "cell_type": "code",
   "execution_count": 10,
   "id": "fafa42c8",
   "metadata": {},
   "outputs": [
    {
     "name": "stdout",
     "output_type": "stream",
     "text": [
      "        doc_id                                               text  \\\n",
      "0            0  bernadine brings to the agency over twenty yea...   \n",
      "1            1  a cute denim skirt by dickies!\\npair this jean...   \n",
      "2            2  see the latest foothills homes february 2016 r...   \n",
      "3            3  shape of the world is stu maxwell's passion pr...   \n",
      "4            4  we offer a number of products.\\nwhen purchasin...   \n",
      "...        ...                                                ...   \n",
      "163558    3441  :param inst: the instance to add\\n        :typ...   \n",
      "163559    3442  an indian rocket deployed 104 spacecraft into ...   \n",
      "163560    3443  how does it work, what does it entail and why ...   \n",
      "163561    3444  at the command line i can load websites like t...   \n",
      "163562    3445  the united nations says nearly half a million ...   \n",
      "\n",
      "                                                      url  element_count  \\\n",
      "0       https://www.4rfv.com/V7BTWGJ6BUYI/AA/bernadine...              0   \n",
      "1       http://www.uk-beaders.co.uk/dickies-denim-skir...              0   \n",
      "2       https://www.premiertucsonhomes.com/foothills-h...              0   \n",
      "3       https://killscreen.com/articles/shape-world-wa...              0   \n",
      "4                 http://lendsense.com/mortgage-products/              0   \n",
      "...                                                   ...            ...   \n",
      "163558  https://github.com/fracpete/python-weka-wrappe...              0   \n",
      "163559  http://spaceflightnow.com/2017/02/15/india-lof...              0   \n",
      "163560        http://www.richard-lustig-book.com/2019/01/              0   \n",
      "163561                                               None              0   \n",
      "163562  http://abcnews.go.com/International/wireStory/...              0   \n",
      "\n",
      "        non-utf8_count masked_items  is_inappropriate  \\\n",
      "0                    0         None             False   \n",
      "1                    0         None             False   \n",
      "2                    0         None             False   \n",
      "3                    0         None             False   \n",
      "4                    0         None             False   \n",
      "...                ...          ...               ...   \n",
      "163558               0         None             False   \n",
      "163559               0         None             False   \n",
      "163560               0         None             False   \n",
      "163561               0         None             False   \n",
      "163562               0         None             False   \n",
      "\n",
      "                                                token_ids  \n",
      "0       [33900, 324, 500, 6774, 284, 262, 4086, 625, 8...  \n",
      "1       [64, 13779, 43152, 23967, 416, 19317, 444, 0, ...  \n",
      "2       [3826, 262, 3452, 36522, 2171, 5682, 730, 65, ...  \n",
      "3       [43358, 286, 262, 995, 318, 336, 84, 3509, 405...  \n",
      "4       [732, 2897, 257, 1271, 286, 3186, 13, 198, 125...  \n",
      "...                                                   ...  \n",
      "163558  [25, 17143, 916, 25, 262, 4554, 284, 751, 198,...  \n",
      "163559  [272, 773, 666, 10701, 12380, 14436, 16807, 65...  \n",
      "163560  [4919, 857, 340, 670, 11, 644, 857, 340, 39793...  \n",
      "163561  [265, 262, 3141, 1627, 1312, 460, 3440, 9293, ...  \n",
      "163562  [1169, 16503, 7027, 1139, 3016, 2063, 257, 151...  \n",
      "\n",
      "[163563 rows x 8 columns]\n"
     ]
    }
   ],
   "source": [
    "filepath = \"../../data/cleaned/cleaned_csv_test.JSONL\"\n",
    "data = []\n",
    "\n",
    "with open(filepath, 'r', encoding='utf-8') as file:\n",
    "    for line in file:\n",
    "        try:\n",
    "            data.append(json.loads(line))\n",
    "        except json.JSONDecodeError:\n",
    "            continue\n",
    "\n",
    "df = pd.DataFrame(data)\n",
    "print(df)"
   ]
  }
 ],
 "metadata": {
  "kernelspec": {
   "display_name": "venv",
   "language": "python",
   "name": "python3"
  },
  "language_info": {
   "codemirror_mode": {
    "name": "ipython",
    "version": 3
   },
   "file_extension": ".py",
   "mimetype": "text/x-python",
   "name": "python",
   "nbconvert_exporter": "python",
   "pygments_lexer": "ipython3",
   "version": "3.11.2"
  }
 },
 "nbformat": 4,
 "nbformat_minor": 5
}
